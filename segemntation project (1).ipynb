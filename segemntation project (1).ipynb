{
 "cells": [
  {
   "cell_type": "markdown",
   "id": "05f90b12",
   "metadata": {},
   "source": [
    "# ABOUT THE DATASET(SALES DATA)\n"
   ]
  },
  {
   "cell_type": "raw",
   "id": "8ea0c825",
   "metadata": {},
   "source": [
    "1.)ORDERNUMBER-Unique identity of order\n",
    "2.)QUANTITYORDERED-Number of quantity ordered\n",
    "3.)PRICEEACH-Price of each quantity\n",
    "4.)ORDERLINENUMBER-\n",
    "5.)SALES-Quantity*Priceeach\n",
    "6.)ORDERDATE-Date of order\n",
    "7.)STATUS-Status of order\n",
    "8.)QTR_ID-Quater of year(1/2/3/4)\n",
    "9.)MONTH_ID-Month of year\n",
    "10.)PRODUCTLINE-Group of related products marketed under a single name\n",
    "11.)MSRP-Manufacturer Suggested Retail Price\n",
    "12.)PRODUCTCODE-Unique identity to products\n",
    "13.)CUSTOMERNAME-Customer registered company name\n",
    "14.)PHONE-Phone number of customer\n",
    "15.)ADDRESSLINE1 & ADDRESSLINE2-Delivery Addresses of customer \n",
    "16.)CITY-City from which order is placed\n",
    "17.)STATE-State  from which order is placed\n",
    "18.)POSTALCODE-Postalcode of each city\n",
    "19.)COUNTRY-Country from which order is placed\n",
    "20.)TERRITORY-Territory from to which country belongs\n",
    "21.)FIRSTNAME-Firstname of customer\n",
    "22.)LASTNAME-Lastname of customer\n",
    "23.)DEALSIZE-Size of each order\n",
    "**NOTE**-SALES,PRICEEACH AND MSRP ARE TAKEN IN DOLLARS($)"
   ]
  },
  {
   "cell_type": "code",
   "execution_count": 5,
   "id": "e4b172e0",
   "metadata": {},
   "outputs": [],
   "source": [
    "#IMPORTING LIBRARIES\n",
    "import pandas as pd\n",
    "import numpy as np\n",
    "import matplotlib.pyplot as plt\n",
    "import seaborn as sns\n",
    "import warnings\n",
    "warnings.filterwarnings('ignore')\n",
    "plt.style.use('ggplot')\n",
    "from sklearn.cluster import KMeans\n",
    "from sklearn.preprocessing import MinMaxScaler"
   ]
  },
  {
   "cell_type": "code",
   "execution_count": 7,
   "id": "e2783436",
   "metadata": {},
   "outputs": [],
   "source": [
    "#READING CSV FILE\n",
    "data=pd.read_csv('sales_data.csv', header= 0,\n",
    "                        encoding= 'unicode_escape')"
   ]
  },
  {
   "cell_type": "code",
   "execution_count": 9,
   "id": "aefaeb78",
   "metadata": {},
   "outputs": [],
   "source": [
    "#TO DISPLAY ALL THE COLUMNS\n",
    "pd.set_option('display.max_columns', None)"
   ]
  },
  {
   "cell_type": "code",
   "execution_count": 11,
   "id": "72d897d1",
   "metadata": {},
   "outputs": [
    {
     "data": {
      "text/html": [
       "<div>\n",
       "<style scoped>\n",
       "    .dataframe tbody tr th:only-of-type {\n",
       "        vertical-align: middle;\n",
       "    }\n",
       "\n",
       "    .dataframe tbody tr th {\n",
       "        vertical-align: top;\n",
       "    }\n",
       "\n",
       "    .dataframe thead th {\n",
       "        text-align: right;\n",
       "    }\n",
       "</style>\n",
       "<table border=\"1\" class=\"dataframe\">\n",
       "  <thead>\n",
       "    <tr style=\"text-align: right;\">\n",
       "      <th></th>\n",
       "      <th>ORDERNUMBER</th>\n",
       "      <th>QUANTITY</th>\n",
       "      <th>PRICE</th>\n",
       "      <th>ORDERLINENUMBER</th>\n",
       "      <th>SALES</th>\n",
       "      <th>DATE</th>\n",
       "      <th>STATUS</th>\n",
       "      <th>QTR</th>\n",
       "      <th>MONTH</th>\n",
       "      <th>YEAR</th>\n",
       "      <th>PRODUCTLINE</th>\n",
       "      <th>MSRP</th>\n",
       "      <th>PRODUCTCODE</th>\n",
       "      <th>CUSTOMERNAME</th>\n",
       "      <th>PHONE</th>\n",
       "      <th>ADDRESSLINE1</th>\n",
       "      <th>ADDRESSLINE2</th>\n",
       "      <th>CITY</th>\n",
       "      <th>STATE</th>\n",
       "      <th>POSTALCODE</th>\n",
       "      <th>COUNTRY</th>\n",
       "      <th>TERRITORY</th>\n",
       "      <th>LAST_NAME</th>\n",
       "      <th>FIRST_NAME</th>\n",
       "      <th>DEALSIZE</th>\n",
       "    </tr>\n",
       "  </thead>\n",
       "  <tbody>\n",
       "    <tr>\n",
       "      <th>0</th>\n",
       "      <td>10107</td>\n",
       "      <td>30</td>\n",
       "      <td>95.70</td>\n",
       "      <td>2</td>\n",
       "      <td>2871.00</td>\n",
       "      <td>2/24/2003 0:00</td>\n",
       "      <td>Shipped</td>\n",
       "      <td>1</td>\n",
       "      <td>2</td>\n",
       "      <td>2003</td>\n",
       "      <td>Motorcycles</td>\n",
       "      <td>95</td>\n",
       "      <td>S10_1678</td>\n",
       "      <td>Land of Toys Inc.</td>\n",
       "      <td>2125557818</td>\n",
       "      <td>897 Long Airport Avenue</td>\n",
       "      <td>NaN</td>\n",
       "      <td>NYC</td>\n",
       "      <td>NY</td>\n",
       "      <td>10022</td>\n",
       "      <td>USA</td>\n",
       "      <td>NaN</td>\n",
       "      <td>Yu</td>\n",
       "      <td>Kwai</td>\n",
       "      <td>Small</td>\n",
       "    </tr>\n",
       "    <tr>\n",
       "      <th>1</th>\n",
       "      <td>10121</td>\n",
       "      <td>34</td>\n",
       "      <td>81.35</td>\n",
       "      <td>5</td>\n",
       "      <td>2765.90</td>\n",
       "      <td>5/7/2003 0:00</td>\n",
       "      <td>Shipped</td>\n",
       "      <td>2</td>\n",
       "      <td>5</td>\n",
       "      <td>2003</td>\n",
       "      <td>Motorcycles</td>\n",
       "      <td>95</td>\n",
       "      <td>S10_1678</td>\n",
       "      <td>Reims Collectables</td>\n",
       "      <td>26.47.1555</td>\n",
       "      <td>59 rue de l'Abbaye</td>\n",
       "      <td>NaN</td>\n",
       "      <td>Reims</td>\n",
       "      <td>NaN</td>\n",
       "      <td>51100</td>\n",
       "      <td>France</td>\n",
       "      <td>EMEA</td>\n",
       "      <td>Henriot</td>\n",
       "      <td>Paul</td>\n",
       "      <td>Small</td>\n",
       "    </tr>\n",
       "    <tr>\n",
       "      <th>2</th>\n",
       "      <td>10134</td>\n",
       "      <td>41</td>\n",
       "      <td>94.74</td>\n",
       "      <td>2</td>\n",
       "      <td>3884.34</td>\n",
       "      <td>7/1/2003 0:00</td>\n",
       "      <td>Shipped</td>\n",
       "      <td>3</td>\n",
       "      <td>7</td>\n",
       "      <td>2003</td>\n",
       "      <td>Motorcycles</td>\n",
       "      <td>95</td>\n",
       "      <td>S10_1678</td>\n",
       "      <td>Lyon Souveniers</td>\n",
       "      <td>+33 1 46 62 7555</td>\n",
       "      <td>27 rue du Colonel Pierre Avia</td>\n",
       "      <td>NaN</td>\n",
       "      <td>Paris</td>\n",
       "      <td>NaN</td>\n",
       "      <td>75508</td>\n",
       "      <td>France</td>\n",
       "      <td>EMEA</td>\n",
       "      <td>Da Cunha</td>\n",
       "      <td>Daniel</td>\n",
       "      <td>Medium</td>\n",
       "    </tr>\n",
       "    <tr>\n",
       "      <th>3</th>\n",
       "      <td>10145</td>\n",
       "      <td>45</td>\n",
       "      <td>83.26</td>\n",
       "      <td>6</td>\n",
       "      <td>3746.70</td>\n",
       "      <td>8/25/2003 0:00</td>\n",
       "      <td>Shipped</td>\n",
       "      <td>3</td>\n",
       "      <td>8</td>\n",
       "      <td>2003</td>\n",
       "      <td>Motorcycles</td>\n",
       "      <td>95</td>\n",
       "      <td>S10_1678</td>\n",
       "      <td>Toys4GrownUps.com</td>\n",
       "      <td>6265557265</td>\n",
       "      <td>78934 Hillside Dr.</td>\n",
       "      <td>NaN</td>\n",
       "      <td>Pasadena</td>\n",
       "      <td>CA</td>\n",
       "      <td>90003</td>\n",
       "      <td>USA</td>\n",
       "      <td>NaN</td>\n",
       "      <td>Young</td>\n",
       "      <td>Julie</td>\n",
       "      <td>Medium</td>\n",
       "    </tr>\n",
       "    <tr>\n",
       "      <th>4</th>\n",
       "      <td>10159</td>\n",
       "      <td>49</td>\n",
       "      <td>100.00</td>\n",
       "      <td>14</td>\n",
       "      <td>5205.27</td>\n",
       "      <td>10/10/2003 0:00</td>\n",
       "      <td>Shipped</td>\n",
       "      <td>4</td>\n",
       "      <td>10</td>\n",
       "      <td>2003</td>\n",
       "      <td>Motorcycles</td>\n",
       "      <td>95</td>\n",
       "      <td>S10_1678</td>\n",
       "      <td>Corporate Gift Ideas Co.</td>\n",
       "      <td>6505551386</td>\n",
       "      <td>7734 Strong St.</td>\n",
       "      <td>NaN</td>\n",
       "      <td>San Francisco</td>\n",
       "      <td>CA</td>\n",
       "      <td>NaN</td>\n",
       "      <td>USA</td>\n",
       "      <td>NaN</td>\n",
       "      <td>Brown</td>\n",
       "      <td>Julie</td>\n",
       "      <td>Medium</td>\n",
       "    </tr>\n",
       "  </tbody>\n",
       "</table>\n",
       "</div>"
      ],
      "text/plain": [
       "   ORDERNUMBER  QUANTITY   PRICE  ORDERLINENUMBER    SALES             DATE  \\\n",
       "0        10107        30   95.70                2  2871.00   2/24/2003 0:00   \n",
       "1        10121        34   81.35                5  2765.90    5/7/2003 0:00   \n",
       "2        10134        41   94.74                2  3884.34    7/1/2003 0:00   \n",
       "3        10145        45   83.26                6  3746.70   8/25/2003 0:00   \n",
       "4        10159        49  100.00               14  5205.27  10/10/2003 0:00   \n",
       "\n",
       "    STATUS  QTR  MONTH  YEAR  PRODUCTLINE  MSRP PRODUCTCODE  \\\n",
       "0  Shipped    1      2  2003  Motorcycles    95    S10_1678   \n",
       "1  Shipped    2      5  2003  Motorcycles    95    S10_1678   \n",
       "2  Shipped    3      7  2003  Motorcycles    95    S10_1678   \n",
       "3  Shipped    3      8  2003  Motorcycles    95    S10_1678   \n",
       "4  Shipped    4     10  2003  Motorcycles    95    S10_1678   \n",
       "\n",
       "               CUSTOMERNAME             PHONE                   ADDRESSLINE1  \\\n",
       "0         Land of Toys Inc.        2125557818        897 Long Airport Avenue   \n",
       "1        Reims Collectables        26.47.1555             59 rue de l'Abbaye   \n",
       "2           Lyon Souveniers  +33 1 46 62 7555  27 rue du Colonel Pierre Avia   \n",
       "3         Toys4GrownUps.com        6265557265             78934 Hillside Dr.   \n",
       "4  Corporate Gift Ideas Co.        6505551386                7734 Strong St.   \n",
       "\n",
       "  ADDRESSLINE2           CITY STATE POSTALCODE COUNTRY TERRITORY LAST_NAME  \\\n",
       "0          NaN            NYC    NY      10022     USA       NaN        Yu   \n",
       "1          NaN          Reims   NaN      51100  France      EMEA   Henriot   \n",
       "2          NaN          Paris   NaN      75508  France      EMEA  Da Cunha   \n",
       "3          NaN       Pasadena    CA      90003     USA       NaN     Young   \n",
       "4          NaN  San Francisco    CA        NaN     USA       NaN     Brown   \n",
       "\n",
       "  FIRST_NAME DEALSIZE  \n",
       "0       Kwai    Small  \n",
       "1       Paul    Small  \n",
       "2     Daniel   Medium  \n",
       "3      Julie   Medium  \n",
       "4      Julie   Medium  "
      ]
     },
     "execution_count": 11,
     "metadata": {},
     "output_type": "execute_result"
    }
   ],
   "source": [
    "#DISPLAYING DATA FOR FIRST 5 ROWS\n",
    "data.head()"
   ]
  },
  {
   "cell_type": "code",
   "execution_count": 13,
   "id": "66743c5f",
   "metadata": {},
   "outputs": [
    {
     "data": {
      "text/plain": [
       "Index(['ORDERNUMBER', 'QUANTITY', 'PRICE', 'ORDERLINENUMBER', 'SALES', 'DATE',\n",
       "       'STATUS', 'QTR', 'MONTH', 'YEAR', 'PRODUCTLINE', 'MSRP', 'PRODUCTCODE',\n",
       "       'CUSTOMERNAME', 'PHONE', 'ADDRESSLINE1', 'ADDRESSLINE2', 'CITY',\n",
       "       'STATE', 'POSTALCODE', 'COUNTRY', 'TERRITORY', 'LAST_NAME',\n",
       "       'FIRST_NAME', 'DEALSIZE'],\n",
       "      dtype='object')"
      ]
     },
     "execution_count": 13,
     "metadata": {},
     "output_type": "execute_result"
    }
   ],
   "source": [
    "#DISPLAYING NAME OF ALL THE COLUMNS IN THE DATASET\n",
    "data.columns"
   ]
  },
  {
   "cell_type": "code",
   "execution_count": 15,
   "id": "8623ab4b",
   "metadata": {},
   "outputs": [],
   "source": [
    "#RENAMING COLUMNS\n",
    "data.rename(columns={'QUANTITYORDERED':'QUANTITY','PRICEEACH':'PRICE','ORDERDATE':'DATE','QTR_ID':'QTR','MONTH_ID':'MONTH','YEAR_ID':'YEAR','CONTACTLASTNAME':'LAST_NAME','CONTACTFIRSTNAME':'FIRST_NAME'},inplace=True)"
   ]
  },
  {
   "cell_type": "code",
   "execution_count": 17,
   "id": "520a5c4a",
   "metadata": {},
   "outputs": [
    {
     "data": {
      "text/html": [
       "<div>\n",
       "<style scoped>\n",
       "    .dataframe tbody tr th:only-of-type {\n",
       "        vertical-align: middle;\n",
       "    }\n",
       "\n",
       "    .dataframe tbody tr th {\n",
       "        vertical-align: top;\n",
       "    }\n",
       "\n",
       "    .dataframe thead th {\n",
       "        text-align: right;\n",
       "    }\n",
       "</style>\n",
       "<table border=\"1\" class=\"dataframe\">\n",
       "  <thead>\n",
       "    <tr style=\"text-align: right;\">\n",
       "      <th></th>\n",
       "      <th>ORDERNUMBER</th>\n",
       "      <th>QUANTITY</th>\n",
       "      <th>PRICE</th>\n",
       "      <th>ORDERLINENUMBER</th>\n",
       "      <th>SALES</th>\n",
       "      <th>DATE</th>\n",
       "      <th>STATUS</th>\n",
       "      <th>QTR</th>\n",
       "      <th>MONTH</th>\n",
       "      <th>YEAR</th>\n",
       "      <th>PRODUCTLINE</th>\n",
       "      <th>MSRP</th>\n",
       "      <th>PRODUCTCODE</th>\n",
       "      <th>CUSTOMERNAME</th>\n",
       "      <th>PHONE</th>\n",
       "      <th>ADDRESSLINE1</th>\n",
       "      <th>ADDRESSLINE2</th>\n",
       "      <th>CITY</th>\n",
       "      <th>STATE</th>\n",
       "      <th>POSTALCODE</th>\n",
       "      <th>COUNTRY</th>\n",
       "      <th>TERRITORY</th>\n",
       "      <th>LAST_NAME</th>\n",
       "      <th>FIRST_NAME</th>\n",
       "      <th>DEALSIZE</th>\n",
       "    </tr>\n",
       "  </thead>\n",
       "  <tbody>\n",
       "    <tr>\n",
       "      <th>0</th>\n",
       "      <td>10107</td>\n",
       "      <td>30</td>\n",
       "      <td>95.70</td>\n",
       "      <td>2</td>\n",
       "      <td>2871.00</td>\n",
       "      <td>2/24/2003 0:00</td>\n",
       "      <td>Shipped</td>\n",
       "      <td>1</td>\n",
       "      <td>2</td>\n",
       "      <td>2003</td>\n",
       "      <td>Motorcycles</td>\n",
       "      <td>95</td>\n",
       "      <td>S10_1678</td>\n",
       "      <td>Land of Toys Inc.</td>\n",
       "      <td>2125557818</td>\n",
       "      <td>897 Long Airport Avenue</td>\n",
       "      <td>NaN</td>\n",
       "      <td>NYC</td>\n",
       "      <td>NY</td>\n",
       "      <td>10022</td>\n",
       "      <td>USA</td>\n",
       "      <td>NaN</td>\n",
       "      <td>Yu</td>\n",
       "      <td>Kwai</td>\n",
       "      <td>Small</td>\n",
       "    </tr>\n",
       "    <tr>\n",
       "      <th>1</th>\n",
       "      <td>10121</td>\n",
       "      <td>34</td>\n",
       "      <td>81.35</td>\n",
       "      <td>5</td>\n",
       "      <td>2765.90</td>\n",
       "      <td>5/7/2003 0:00</td>\n",
       "      <td>Shipped</td>\n",
       "      <td>2</td>\n",
       "      <td>5</td>\n",
       "      <td>2003</td>\n",
       "      <td>Motorcycles</td>\n",
       "      <td>95</td>\n",
       "      <td>S10_1678</td>\n",
       "      <td>Reims Collectables</td>\n",
       "      <td>26.47.1555</td>\n",
       "      <td>59 rue de l'Abbaye</td>\n",
       "      <td>NaN</td>\n",
       "      <td>Reims</td>\n",
       "      <td>NaN</td>\n",
       "      <td>51100</td>\n",
       "      <td>France</td>\n",
       "      <td>EMEA</td>\n",
       "      <td>Henriot</td>\n",
       "      <td>Paul</td>\n",
       "      <td>Small</td>\n",
       "    </tr>\n",
       "    <tr>\n",
       "      <th>2</th>\n",
       "      <td>10134</td>\n",
       "      <td>41</td>\n",
       "      <td>94.74</td>\n",
       "      <td>2</td>\n",
       "      <td>3884.34</td>\n",
       "      <td>7/1/2003 0:00</td>\n",
       "      <td>Shipped</td>\n",
       "      <td>3</td>\n",
       "      <td>7</td>\n",
       "      <td>2003</td>\n",
       "      <td>Motorcycles</td>\n",
       "      <td>95</td>\n",
       "      <td>S10_1678</td>\n",
       "      <td>Lyon Souveniers</td>\n",
       "      <td>+33 1 46 62 7555</td>\n",
       "      <td>27 rue du Colonel Pierre Avia</td>\n",
       "      <td>NaN</td>\n",
       "      <td>Paris</td>\n",
       "      <td>NaN</td>\n",
       "      <td>75508</td>\n",
       "      <td>France</td>\n",
       "      <td>EMEA</td>\n",
       "      <td>Da Cunha</td>\n",
       "      <td>Daniel</td>\n",
       "      <td>Medium</td>\n",
       "    </tr>\n",
       "    <tr>\n",
       "      <th>3</th>\n",
       "      <td>10145</td>\n",
       "      <td>45</td>\n",
       "      <td>83.26</td>\n",
       "      <td>6</td>\n",
       "      <td>3746.70</td>\n",
       "      <td>8/25/2003 0:00</td>\n",
       "      <td>Shipped</td>\n",
       "      <td>3</td>\n",
       "      <td>8</td>\n",
       "      <td>2003</td>\n",
       "      <td>Motorcycles</td>\n",
       "      <td>95</td>\n",
       "      <td>S10_1678</td>\n",
       "      <td>Toys4GrownUps.com</td>\n",
       "      <td>6265557265</td>\n",
       "      <td>78934 Hillside Dr.</td>\n",
       "      <td>NaN</td>\n",
       "      <td>Pasadena</td>\n",
       "      <td>CA</td>\n",
       "      <td>90003</td>\n",
       "      <td>USA</td>\n",
       "      <td>NaN</td>\n",
       "      <td>Young</td>\n",
       "      <td>Julie</td>\n",
       "      <td>Medium</td>\n",
       "    </tr>\n",
       "    <tr>\n",
       "      <th>4</th>\n",
       "      <td>10159</td>\n",
       "      <td>49</td>\n",
       "      <td>100.00</td>\n",
       "      <td>14</td>\n",
       "      <td>5205.27</td>\n",
       "      <td>10/10/2003 0:00</td>\n",
       "      <td>Shipped</td>\n",
       "      <td>4</td>\n",
       "      <td>10</td>\n",
       "      <td>2003</td>\n",
       "      <td>Motorcycles</td>\n",
       "      <td>95</td>\n",
       "      <td>S10_1678</td>\n",
       "      <td>Corporate Gift Ideas Co.</td>\n",
       "      <td>6505551386</td>\n",
       "      <td>7734 Strong St.</td>\n",
       "      <td>NaN</td>\n",
       "      <td>San Francisco</td>\n",
       "      <td>CA</td>\n",
       "      <td>NaN</td>\n",
       "      <td>USA</td>\n",
       "      <td>NaN</td>\n",
       "      <td>Brown</td>\n",
       "      <td>Julie</td>\n",
       "      <td>Medium</td>\n",
       "    </tr>\n",
       "  </tbody>\n",
       "</table>\n",
       "</div>"
      ],
      "text/plain": [
       "   ORDERNUMBER  QUANTITY   PRICE  ORDERLINENUMBER    SALES             DATE  \\\n",
       "0        10107        30   95.70                2  2871.00   2/24/2003 0:00   \n",
       "1        10121        34   81.35                5  2765.90    5/7/2003 0:00   \n",
       "2        10134        41   94.74                2  3884.34    7/1/2003 0:00   \n",
       "3        10145        45   83.26                6  3746.70   8/25/2003 0:00   \n",
       "4        10159        49  100.00               14  5205.27  10/10/2003 0:00   \n",
       "\n",
       "    STATUS  QTR  MONTH  YEAR  PRODUCTLINE  MSRP PRODUCTCODE  \\\n",
       "0  Shipped    1      2  2003  Motorcycles    95    S10_1678   \n",
       "1  Shipped    2      5  2003  Motorcycles    95    S10_1678   \n",
       "2  Shipped    3      7  2003  Motorcycles    95    S10_1678   \n",
       "3  Shipped    3      8  2003  Motorcycles    95    S10_1678   \n",
       "4  Shipped    4     10  2003  Motorcycles    95    S10_1678   \n",
       "\n",
       "               CUSTOMERNAME             PHONE                   ADDRESSLINE1  \\\n",
       "0         Land of Toys Inc.        2125557818        897 Long Airport Avenue   \n",
       "1        Reims Collectables        26.47.1555             59 rue de l'Abbaye   \n",
       "2           Lyon Souveniers  +33 1 46 62 7555  27 rue du Colonel Pierre Avia   \n",
       "3         Toys4GrownUps.com        6265557265             78934 Hillside Dr.   \n",
       "4  Corporate Gift Ideas Co.        6505551386                7734 Strong St.   \n",
       "\n",
       "  ADDRESSLINE2           CITY STATE POSTALCODE COUNTRY TERRITORY LAST_NAME  \\\n",
       "0          NaN            NYC    NY      10022     USA       NaN        Yu   \n",
       "1          NaN          Reims   NaN      51100  France      EMEA   Henriot   \n",
       "2          NaN          Paris   NaN      75508  France      EMEA  Da Cunha   \n",
       "3          NaN       Pasadena    CA      90003     USA       NaN     Young   \n",
       "4          NaN  San Francisco    CA        NaN     USA       NaN     Brown   \n",
       "\n",
       "  FIRST_NAME DEALSIZE  \n",
       "0       Kwai    Small  \n",
       "1       Paul    Small  \n",
       "2     Daniel   Medium  \n",
       "3      Julie   Medium  \n",
       "4      Julie   Medium  "
      ]
     },
     "execution_count": 17,
     "metadata": {},
     "output_type": "execute_result"
    }
   ],
   "source": [
    "#DISPLAYING DATA WITH NEW COLUMN NAME\n",
    "data.head()"
   ]
  },
  {
   "cell_type": "code",
   "execution_count": 19,
   "id": "fee875e4",
   "metadata": {},
   "outputs": [
    {
     "data": {
      "text/plain": [
       "(2823, 25)"
      ]
     },
     "execution_count": 19,
     "metadata": {},
     "output_type": "execute_result"
    }
   ],
   "source": [
    "#GENERATING DIMENSIONS OF DATASET\n",
    "data.shape"
   ]
  },
  {
   "cell_type": "code",
   "execution_count": 21,
   "id": "c72bbbf5",
   "metadata": {},
   "outputs": [
    {
     "name": "stdout",
     "output_type": "stream",
     "text": [
      "There are 2823 rows and 25 columns in data\n"
     ]
    }
   ],
   "source": [
    "#DISPLAYING THE ROWS AND COLUMNS OF DATASET\n",
    "print('There are {0} rows and {1} columns in data'.format(data.shape[0],data.shape[1]))"
   ]
  },
  {
   "cell_type": "code",
   "execution_count": 23,
   "id": "b5010bcf",
   "metadata": {},
   "outputs": [
    {
     "data": {
      "text/plain": [
       "ORDERNUMBER                 int64\n",
       "QUANTITY                    int64\n",
       "PRICE                     float64\n",
       "ORDERLINENUMBER             int64\n",
       "SALES                     float64\n",
       "DATE               datetime64[ns]\n",
       "STATUS                     object\n",
       "QTR                         int64\n",
       "MONTH                       int64\n",
       "YEAR                        int64\n",
       "PRODUCTLINE                object\n",
       "MSRP                        int64\n",
       "PRODUCTCODE                object\n",
       "CUSTOMERNAME               object\n",
       "PHONE                      object\n",
       "ADDRESSLINE1               object\n",
       "ADDRESSLINE2               object\n",
       "CITY                       object\n",
       "STATE                      object\n",
       "POSTALCODE                 object\n",
       "COUNTRY                    object\n",
       "TERRITORY                  object\n",
       "LAST_NAME                  object\n",
       "FIRST_NAME                 object\n",
       "DEALSIZE                   object\n",
       "dtype: object"
      ]
     },
     "execution_count": 23,
     "metadata": {},
     "output_type": "execute_result"
    }
   ],
   "source": [
    "#DISPLAYING THE DATATYPES OF ALL THE COLUMNS\n",
    "data.dtypes"
   ]
  },
  {
   "cell_type": "code",
   "execution_count": 25,
   "id": "2bd7e318",
   "metadata": {},
   "outputs": [],
   "source": [
    "#CONVERTING THE DATA TYPE OF DATE FROM OBJECT TO DATETIME\n",
    "data['DATE']=pd.to_datetime(data['DATE'])"
   ]
  },
  {
   "cell_type": "code",
   "execution_count": 27,
   "id": "53f421d7",
   "metadata": {},
   "outputs": [
    {
     "data": {
      "text/plain": [
       "ORDERNUMBER                 int64\n",
       "QUANTITY                    int64\n",
       "PRICE                     float64\n",
       "ORDERLINENUMBER             int64\n",
       "SALES                     float64\n",
       "DATE               datetime64[ns]\n",
       "STATUS                     object\n",
       "QTR                         int64\n",
       "MONTH                       int64\n",
       "YEAR                        int64\n",
       "PRODUCTLINE                object\n",
       "MSRP                        int64\n",
       "PRODUCTCODE                object\n",
       "CUSTOMERNAME               object\n",
       "PHONE                      object\n",
       "ADDRESSLINE1               object\n",
       "ADDRESSLINE2               object\n",
       "CITY                       object\n",
       "STATE                      object\n",
       "POSTALCODE                 object\n",
       "COUNTRY                    object\n",
       "TERRITORY                  object\n",
       "LAST_NAME                  object\n",
       "FIRST_NAME                 object\n",
       "DEALSIZE                   object\n",
       "dtype: object"
      ]
     },
     "execution_count": 27,
     "metadata": {},
     "output_type": "execute_result"
    }
   ],
   "source": [
    "#DISPLAYING THE CORRECT DATA TYPES OF ALL THE COLUMNS AFTER MODIFICATION\n",
    "data.dtypes"
   ]
  },
  {
   "cell_type": "code",
   "execution_count": 29,
   "id": "9d15bd8d",
   "metadata": {},
   "outputs": [
    {
     "data": {
      "text/plain": [
       "0"
      ]
     },
     "execution_count": 29,
     "metadata": {},
     "output_type": "execute_result"
    }
   ],
   "source": [
    "#CHECKING NUMBER OF DUPLICATE ROWS IN DATASET\n",
    "data.duplicated().sum()"
   ]
  },
  {
   "cell_type": "code",
   "execution_count": 31,
   "id": "9fb0f5b3",
   "metadata": {},
   "outputs": [
    {
     "name": "stdout",
     "output_type": "stream",
     "text": [
      "There are 0 duplicates in data\n"
     ]
    }
   ],
   "source": [
    "#PRINTITNG NUMBER OF DUPLICATE ROWS IN DATASET\n",
    "print('There are {0} duplicates in data'.format(data.duplicated().sum()))"
   ]
  },
  {
   "cell_type": "code",
   "execution_count": 33,
   "id": "7d0e46ea",
   "metadata": {},
   "outputs": [
    {
     "data": {
      "text/plain": [
       "ORDERNUMBER        0\n",
       "QUANTITY           0\n",
       "PRICE              0\n",
       "ORDERLINENUMBER    0\n",
       "SALES              0\n",
       "DATE               0\n",
       "STATUS             0\n",
       "QTR                0\n",
       "MONTH              0\n",
       "YEAR               0\n",
       "PRODUCTLINE        0\n",
       "MSRP               0\n",
       "PRODUCTCODE        0\n",
       "CUSTOMERNAME       0\n",
       "CITY               0\n",
       "COUNTRY            0\n",
       "LAST_NAME          0\n",
       "FIRST_NAME         0\n",
       "DEALSIZE           0\n",
       "dtype: int64"
      ]
     },
     "execution_count": 33,
     "metadata": {},
     "output_type": "execute_result"
    }
   ],
   "source": [
    "#CHECKING NULL VALUES PRESENT IN THE COLUMNS\n",
    "data.isnull().sum()"
   ]
  },
  {
   "cell_type": "code",
   "execution_count": 35,
   "id": "ee79e742",
   "metadata": {},
   "outputs": [
    {
     "data": {
      "text/plain": [
       "<AxesSubplot:>"
      ]
     },
     "execution_count": 35,
     "metadata": {},
     "output_type": "execute_result"
    },
    {
     "data": {
      "image/png": "[encoded data removed]",
      "text/plain": [
       "<Figure size 432x288 with 1 Axes>"
      ]
     },
     "metadata": {},
     "output_type": "display_data"
    }
   ],
   "source": [
    "#VISUALING NULL VALUES OF THE COLUMNS USING HEATMAP\n",
    "sns.heatmap(data.isnull(),yticklabels=False,cbar=False,cmap='viridis')"
   ]
  },
  {
   "cell_type": "code",
   "execution_count": 37,
   "id": "00e552be",
   "metadata": {},
   "outputs": [
    {
     "ename": "KeyError",
     "evalue": "\"['PHONE', 'STATE', 'TERRITORY', 'POSTALCODE', 'ADDRESSLINE1', 'ADDRESSLINE2'] not found in axis\"",
     "output_type": "error",
     "traceback": [
      "\u001b[1;31m---------------------------------------------------------------------------\u001b[0m",
      "\u001b[1;31mKeyError\u001b[0m                                  Traceback (most recent call last)",
      "Input \u001b[1;32mIn [37]\u001b[0m, in \u001b[0;36m<cell line: 2>\u001b[1;34m()\u001b[0m\n\u001b[0;32m      1\u001b[0m \u001b[38;5;66;03m#DROPPING UNNECESSARY COLUMNS AND COLUMNS CONTAINING NULL VALUES\u001b[39;00m\n\u001b[1;32m----> 2\u001b[0m data\u001b[38;5;241m=\u001b[39m\u001b[43mdata\u001b[49m\u001b[38;5;241;43m.\u001b[39;49m\u001b[43mdrop\u001b[49m\u001b[43m(\u001b[49m\u001b[43m[\u001b[49m\u001b[38;5;124;43m'\u001b[39;49m\u001b[38;5;124;43mPHONE\u001b[39;49m\u001b[38;5;124;43m'\u001b[39;49m\u001b[43m,\u001b[49m\u001b[38;5;124;43m'\u001b[39;49m\u001b[38;5;124;43mSTATE\u001b[39;49m\u001b[38;5;124;43m'\u001b[39;49m\u001b[43m,\u001b[49m\u001b[38;5;124;43m'\u001b[39;49m\u001b[38;5;124;43mTERRITORY\u001b[39;49m\u001b[38;5;124;43m'\u001b[39;49m\u001b[43m,\u001b[49m\u001b[38;5;124;43m'\u001b[39;49m\u001b[38;5;124;43mPOSTALCODE\u001b[39;49m\u001b[38;5;124;43m'\u001b[39;49m\u001b[43m,\u001b[49m\u001b[38;5;124;43m'\u001b[39;49m\u001b[38;5;124;43mADDRESSLINE1\u001b[39;49m\u001b[38;5;124;43m'\u001b[39;49m\u001b[43m,\u001b[49m\u001b[38;5;124;43m'\u001b[39;49m\u001b[38;5;124;43mADDRESSLINE2\u001b[39;49m\u001b[38;5;124;43m'\u001b[39;49m\u001b[43m]\u001b[49m\u001b[43m,\u001b[49m\u001b[43maxis\u001b[49m\u001b[38;5;241;43m=\u001b[39;49m\u001b[38;5;241;43m1\u001b[39;49m\u001b[43m)\u001b[49m\n",
      "File \u001b[1;32mD:\\ANACONDA\\lib\\site-packages\\pandas\\util\\_decorators.py:311\u001b[0m, in \u001b[0;36mdeprecate_nonkeyword_arguments.<locals>.decorate.<locals>.wrapper\u001b[1;34m(*args, **kwargs)\u001b[0m\n\u001b[0;32m    305\u001b[0m \u001b[38;5;28;01mif\u001b[39;00m \u001b[38;5;28mlen\u001b[39m(args) \u001b[38;5;241m>\u001b[39m num_allow_args:\n\u001b[0;32m    306\u001b[0m     warnings\u001b[38;5;241m.\u001b[39mwarn(\n\u001b[0;32m    307\u001b[0m         msg\u001b[38;5;241m.\u001b[39mformat(arguments\u001b[38;5;241m=\u001b[39marguments),\n\u001b[0;32m    308\u001b[0m         \u001b[38;5;167;01mFutureWarning\u001b[39;00m,\n\u001b[0;32m    309\u001b[0m         stacklevel\u001b[38;5;241m=\u001b[39mstacklevel,\n\u001b[0;32m    310\u001b[0m     )\n\u001b[1;32m--> 311\u001b[0m \u001b[38;5;28;01mreturn\u001b[39;00m func(\u001b[38;5;241m*\u001b[39margs, \u001b[38;5;241m*\u001b[39m\u001b[38;5;241m*\u001b[39mkwargs)\n",
      "File \u001b[1;32mD:\\ANACONDA\\lib\\site-packages\\pandas\\core\\frame.py:4954\u001b[0m, in \u001b[0;36mDataFrame.drop\u001b[1;34m(self, labels, axis, index, columns, level, inplace, errors)\u001b[0m\n\u001b[0;32m   4806\u001b[0m \u001b[38;5;129m@deprecate_nonkeyword_arguments\u001b[39m(version\u001b[38;5;241m=\u001b[39m\u001b[38;5;28;01mNone\u001b[39;00m, allowed_args\u001b[38;5;241m=\u001b[39m[\u001b[38;5;124m\"\u001b[39m\u001b[38;5;124mself\u001b[39m\u001b[38;5;124m\"\u001b[39m, \u001b[38;5;124m\"\u001b[39m\u001b[38;5;124mlabels\u001b[39m\u001b[38;5;124m\"\u001b[39m])\n\u001b[0;32m   4807\u001b[0m \u001b[38;5;28;01mdef\u001b[39;00m \u001b[38;5;21mdrop\u001b[39m(\n\u001b[0;32m   4808\u001b[0m     \u001b[38;5;28mself\u001b[39m,\n\u001b[1;32m   (...)\u001b[0m\n\u001b[0;32m   4815\u001b[0m     errors: \u001b[38;5;28mstr\u001b[39m \u001b[38;5;241m=\u001b[39m \u001b[38;5;124m\"\u001b[39m\u001b[38;5;124mraise\u001b[39m\u001b[38;5;124m\"\u001b[39m,\n\u001b[0;32m   4816\u001b[0m ):\n\u001b[0;32m   4817\u001b[0m     \u001b[38;5;124;03m\"\"\"\u001b[39;00m\n\u001b[0;32m   4818\u001b[0m \u001b[38;5;124;03m    Drop specified labels from rows or columns.\u001b[39;00m\n\u001b[0;32m   4819\u001b[0m \n\u001b[1;32m   (...)\u001b[0m\n\u001b[0;32m   4952\u001b[0m \u001b[38;5;124;03m            weight  1.0     0.8\u001b[39;00m\n\u001b[0;32m   4953\u001b[0m \u001b[38;5;124;03m    \"\"\"\u001b[39;00m\n\u001b[1;32m-> 4954\u001b[0m     \u001b[38;5;28;01mreturn\u001b[39;00m \u001b[38;5;28;43msuper\u001b[39;49m\u001b[43m(\u001b[49m\u001b[43m)\u001b[49m\u001b[38;5;241;43m.\u001b[39;49m\u001b[43mdrop\u001b[49m\u001b[43m(\u001b[49m\n\u001b[0;32m   4955\u001b[0m \u001b[43m        \u001b[49m\u001b[43mlabels\u001b[49m\u001b[38;5;241;43m=\u001b[39;49m\u001b[43mlabels\u001b[49m\u001b[43m,\u001b[49m\n\u001b[0;32m   4956\u001b[0m \u001b[43m        \u001b[49m\u001b[43maxis\u001b[49m\u001b[38;5;241;43m=\u001b[39;49m\u001b[43maxis\u001b[49m\u001b[43m,\u001b[49m\n\u001b[0;32m   4957\u001b[0m \u001b[43m        \u001b[49m\u001b[43mindex\u001b[49m\u001b[38;5;241;43m=\u001b[39;49m\u001b[43mindex\u001b[49m\u001b[43m,\u001b[49m\n\u001b[0;32m   4958\u001b[0m \u001b[43m        \u001b[49m\u001b[43mcolumns\u001b[49m\u001b[38;5;241;43m=\u001b[39;49m\u001b[43mcolumns\u001b[49m\u001b[43m,\u001b[49m\n\u001b[0;32m   4959\u001b[0m \u001b[43m        \u001b[49m\u001b[43mlevel\u001b[49m\u001b[38;5;241;43m=\u001b[39;49m\u001b[43mlevel\u001b[49m\u001b[43m,\u001b[49m\n\u001b[0;32m   4960\u001b[0m \u001b[43m        \u001b[49m\u001b[43minplace\u001b[49m\u001b[38;5;241;43m=\u001b[39;49m\u001b[43minplace\u001b[49m\u001b[43m,\u001b[49m\n\u001b[0;32m   4961\u001b[0m \u001b[43m        \u001b[49m\u001b[43merrors\u001b[49m\u001b[38;5;241;43m=\u001b[39;49m\u001b[43merrors\u001b[49m\u001b[43m,\u001b[49m\n\u001b[0;32m   4962\u001b[0m \u001b[43m    \u001b[49m\u001b[43m)\u001b[49m\n",
      "File \u001b[1;32mD:\\ANACONDA\\lib\\site-packages\\pandas\\core\\generic.py:4267\u001b[0m, in \u001b[0;36mNDFrame.drop\u001b[1;34m(self, labels, axis, index, columns, level, inplace, errors)\u001b[0m\n\u001b[0;32m   4265\u001b[0m \u001b[38;5;28;01mfor\u001b[39;00m axis, labels \u001b[38;5;129;01min\u001b[39;00m axes\u001b[38;5;241m.\u001b[39mitems():\n\u001b[0;32m   4266\u001b[0m     \u001b[38;5;28;01mif\u001b[39;00m labels \u001b[38;5;129;01mis\u001b[39;00m \u001b[38;5;129;01mnot\u001b[39;00m \u001b[38;5;28;01mNone\u001b[39;00m:\n\u001b[1;32m-> 4267\u001b[0m         obj \u001b[38;5;241m=\u001b[39m \u001b[43mobj\u001b[49m\u001b[38;5;241;43m.\u001b[39;49m\u001b[43m_drop_axis\u001b[49m\u001b[43m(\u001b[49m\u001b[43mlabels\u001b[49m\u001b[43m,\u001b[49m\u001b[43m \u001b[49m\u001b[43maxis\u001b[49m\u001b[43m,\u001b[49m\u001b[43m \u001b[49m\u001b[43mlevel\u001b[49m\u001b[38;5;241;43m=\u001b[39;49m\u001b[43mlevel\u001b[49m\u001b[43m,\u001b[49m\u001b[43m \u001b[49m\u001b[43merrors\u001b[49m\u001b[38;5;241;43m=\u001b[39;49m\u001b[43merrors\u001b[49m\u001b[43m)\u001b[49m\n\u001b[0;32m   4269\u001b[0m \u001b[38;5;28;01mif\u001b[39;00m inplace:\n\u001b[0;32m   4270\u001b[0m     \u001b[38;5;28mself\u001b[39m\u001b[38;5;241m.\u001b[39m_update_inplace(obj)\n",
      "File \u001b[1;32mD:\\ANACONDA\\lib\\site-packages\\pandas\\core\\generic.py:4311\u001b[0m, in \u001b[0;36mNDFrame._drop_axis\u001b[1;34m(self, labels, axis, level, errors, consolidate, only_slice)\u001b[0m\n\u001b[0;32m   4309\u001b[0m         new_axis \u001b[38;5;241m=\u001b[39m axis\u001b[38;5;241m.\u001b[39mdrop(labels, level\u001b[38;5;241m=\u001b[39mlevel, errors\u001b[38;5;241m=\u001b[39merrors)\n\u001b[0;32m   4310\u001b[0m     \u001b[38;5;28;01melse\u001b[39;00m:\n\u001b[1;32m-> 4311\u001b[0m         new_axis \u001b[38;5;241m=\u001b[39m \u001b[43maxis\u001b[49m\u001b[38;5;241;43m.\u001b[39;49m\u001b[43mdrop\u001b[49m\u001b[43m(\u001b[49m\u001b[43mlabels\u001b[49m\u001b[43m,\u001b[49m\u001b[43m \u001b[49m\u001b[43merrors\u001b[49m\u001b[38;5;241;43m=\u001b[39;49m\u001b[43merrors\u001b[49m\u001b[43m)\u001b[49m\n\u001b[0;32m   4312\u001b[0m     indexer \u001b[38;5;241m=\u001b[39m axis\u001b[38;5;241m.\u001b[39mget_indexer(new_axis)\n\u001b[0;32m   4314\u001b[0m \u001b[38;5;66;03m# Case for non-unique axis\u001b[39;00m\n\u001b[0;32m   4315\u001b[0m \u001b[38;5;28;01melse\u001b[39;00m:\n",
      "File \u001b[1;32mD:\\ANACONDA\\lib\\site-packages\\pandas\\core\\indexes\\base.py:6644\u001b[0m, in \u001b[0;36mIndex.drop\u001b[1;34m(self, labels, errors)\u001b[0m\n\u001b[0;32m   6642\u001b[0m \u001b[38;5;28;01mif\u001b[39;00m mask\u001b[38;5;241m.\u001b[39many():\n\u001b[0;32m   6643\u001b[0m     \u001b[38;5;28;01mif\u001b[39;00m errors \u001b[38;5;241m!=\u001b[39m \u001b[38;5;124m\"\u001b[39m\u001b[38;5;124mignore\u001b[39m\u001b[38;5;124m\"\u001b[39m:\n\u001b[1;32m-> 6644\u001b[0m         \u001b[38;5;28;01mraise\u001b[39;00m \u001b[38;5;167;01mKeyError\u001b[39;00m(\u001b[38;5;124mf\u001b[39m\u001b[38;5;124m\"\u001b[39m\u001b[38;5;132;01m{\u001b[39;00m\u001b[38;5;28mlist\u001b[39m(labels[mask])\u001b[38;5;132;01m}\u001b[39;00m\u001b[38;5;124m not found in axis\u001b[39m\u001b[38;5;124m\"\u001b[39m)\n\u001b[0;32m   6645\u001b[0m     indexer \u001b[38;5;241m=\u001b[39m indexer[\u001b[38;5;241m~\u001b[39mmask]\n\u001b[0;32m   6646\u001b[0m \u001b[38;5;28;01mreturn\u001b[39;00m \u001b[38;5;28mself\u001b[39m\u001b[38;5;241m.\u001b[39mdelete(indexer)\n",
      "\u001b[1;31mKeyError\u001b[0m: \"['PHONE', 'STATE', 'TERRITORY', 'POSTALCODE', 'ADDRESSLINE1', 'ADDRESSLINE2'] not found in axis\""
     ]
    }
   ],
   "source": [
    "#DROPPING UNNECESSARY COLUMNS AND COLUMNS CONTAINING NULL VALUES\n",
    "data=data.drop(['PHONE','STATE','TERRITORY','POSTALCODE','ADDRESSLINE1','ADDRESSLINE2'],axis=1)"
   ]
  },
  {
   "cell_type": "code",
   "execution_count": null,
   "id": "f2d0a8a7",
   "metadata": {},
   "outputs": [],
   "source": [
    "#RECHECKING THE NULL VALUES PRESENT IN THE COLUMNS\n",
    "data.isnull().sum()"
   ]
  },
  {
   "cell_type": "code",
   "execution_count": null,
   "id": "11e8b61c",
   "metadata": {},
   "outputs": [],
   "source": [
    "#PRINTING THE NUMBER OF NULL VALUES IN THE DATASET\n",
    "print('There are 0 null values in data')"
   ]
  },
  {
   "cell_type": "code",
   "execution_count": null,
   "id": "4bd36560",
   "metadata": {},
   "outputs": [],
   "source": [
    "#VISUALISING THE NULL VALUES USING HEATMAP AFTER DROPPING FEW COLUMNS\n",
    "sns.heatmap(data.isnull(),yticklabels=False,cbar=False,cmap='viridis')"
   ]
  },
  {
   "cell_type": "code",
   "execution_count": null,
   "id": "cda8de1b",
   "metadata": {},
   "outputs": [],
   "source": [
    "#DISPLAYING THE NUMBER OF UNIQUES VALUES PRESENT IN COLUMNS OF THE DATASET\n",
    "data.nunique()"
   ]
  },
  {
   "cell_type": "code",
   "execution_count": null,
   "id": "8f9c617f",
   "metadata": {},
   "outputs": [],
   "source": [
    "#PRINTING IMPORTANT INFORMATION RELATED TO THE DATASET\n",
    "data.info()"
   ]
  },
  {
   "cell_type": "code",
   "execution_count": null,
   "id": "f5472efa",
   "metadata": {},
   "outputs": [],
   "source": [
    "#DISPLAYING FIRST FIVE ROWS OF DATASET AFTER DATA EXPLORATION\n",
    "data.head()"
   ]
  },
  {
   "cell_type": "code",
   "execution_count": null,
   "id": "0cd10a67",
   "metadata": {},
   "outputs": [],
   "source": [
    "#DISPLAYING LAST FIVE ROWS OF THE DATASET AFTER DATA EXPLORATION\n",
    "data.tail()"
   ]
  },
  {
   "cell_type": "code",
   "execution_count": null,
   "id": "98229570",
   "metadata": {},
   "outputs": [],
   "source": [
    "#DISPLAYING STATISTICAL DESCRIPTION OF THE QUANTITATIVE VARIABLES OF DATASET\n",
    "quant_variables=['QUANTITY','PRICE','SALES','MSRP']\n",
    "data[quant_variables].describe()"
   ]
  },
  {
   "cell_type": "markdown",
   "id": "64bf0d66",
   "metadata": {},
   "source": [
    "It is obsereved that there are no negative values for quantitative variables which is good sign."
   ]
  },
  {
   "cell_type": "code",
   "execution_count": null,
   "id": "707091b5",
   "metadata": {},
   "outputs": [],
   "source": [
    "#CALCULATING CORRELATION BETWEEN THE QUANTITATIVE VARIABLES OF DATASET\n",
    "correlation=data[quant_variables].corr()"
   ]
  },
  {
   "cell_type": "code",
   "execution_count": null,
   "id": "232fc5a1",
   "metadata": {},
   "outputs": [],
   "source": [
    "#PRINTING THE CORRELATION VALUES\n",
    "correlation"
   ]
  },
  {
   "cell_type": "markdown",
   "id": "3e66e158",
   "metadata": {},
   "source": [
    "From correlation values we can conclude that:\n",
    "    1.)Sales is correlated with quantity and Price\n",
    "    2.)MSRP and PRICE does not differ much"
   ]
  },
  {
   "cell_type": "code",
   "execution_count": null,
   "id": "d06e64c8",
   "metadata": {},
   "outputs": [],
   "source": [
    "#VISUALISING CORRELATION VALUES USING HEATMAP\n",
    "plt.figure(figsize=(10,8))\n",
    "sns.heatmap(correlation,annot=True,linewidth=.5,cmap='crest')\n",
    "plt.xticks(color='BLACK',fontsize=12)\n",
    "plt.yticks(color='BLACK',fontsize=12)\n",
    "plt.show()"
   ]
  },
  {
   "cell_type": "code",
   "execution_count": null,
   "id": "2a6565ee",
   "metadata": {},
   "outputs": [],
   "source": [
    "#VISUALISING QUANTITY ORDERED USING DISTRIBUTION PLOT\n",
    "plt.figure(figsize=(10,8))\n",
    "sns.distplot(data['QUANTITY'],color='BLUE',bins=50)\n",
    "plt.title('QUANTITY ORDERED DISTRIBUTION',color='BLACK')\n",
    "plt.xlabel('QUANTITY',color='BLACK')\n",
    "plt.ylabel('FREQUENCY',color='BLACK')\n",
    "plt.xticks(color='BLACK',fontsize=12)\n",
    "plt.yticks(color='BLACK',fontsize=12)\n",
    "plt.show()"
   ]
  },
  {
   "cell_type": "markdown",
   "id": "2f55f7cd",
   "metadata": {},
   "source": [
    "From Quantity Ordered Distribution we can infer that most of the order quantity is between 20-50 which can categorised as bulk orders"
   ]
  },
  {
   "cell_type": "code",
   "execution_count": null,
   "id": "bb544f64",
   "metadata": {},
   "outputs": [],
   "source": [
    "#VISUALISING PRICE DISTRIBUTION USING DISTRIBUTION PLOT\n",
    "plt.figure(figsize=(10,8))\n",
    "sns.distplot(data['PRICE'],color='BLUE')\n",
    "plt.title('PRICE DISTRIBUTION',color='BLACK')\n",
    "plt.xlabel('PRICE',color='BLACK')\n",
    "plt.ylabel('FREQUENCY',color='BLACK')\n",
    "plt.xticks(color='BLACK',fontsize=12)\n",
    "plt.yticks(color='BLACK',fontsize=12)\n",
    "plt.show()"
   ]
  },
  {
   "cell_type": "markdown",
   "id": "9c65d36e",
   "metadata": {},
   "source": [
    "Price Distribution is left skewed with highest price as 100$"
   ]
  },
  {
   "cell_type": "code",
   "execution_count": null,
   "id": "102caf60",
   "metadata": {},
   "outputs": [],
   "source": [
    "#VISUALISING SALES DISTRIBUTION USING DISTRIBUTION PLOT\n",
    "plt.figure(figsize=(10,8))\n",
    "sns.distplot(data['SALES'],color='Blue')\n",
    "plt.title('SALES DISTRIBUTION',color='BLACK')\n",
    "plt.xlabel('SALES',color='BLACK')\n",
    "plt.ylabel('FREQUENCY',color='BLACK')\n",
    "plt.xticks(color='BLACK')\n",
    "plt.yticks(color='BLACK')\n",
    "plt.show()"
   ]
  },
  {
   "cell_type": "markdown",
   "id": "e4327775",
   "metadata": {},
   "source": [
    "From Sales Distribution we can infer that mostly sales are between 1000-5000 dollar which is a good sign and can we investigated further."
   ]
  },
  {
   "cell_type": "code",
   "execution_count": null,
   "id": "8e139e1f",
   "metadata": {},
   "outputs": [],
   "source": [
    "#VISUALISING MSRP(MANUFACTURER SUGGESTED RETAIL PRICE) DISTRIBUTION USING DISTRIBUTION PLOT\n",
    "plt.figure(figsize=(10,8))\n",
    "sns.distplot(data['MSRP'],color='BLUE',bins=50)\n",
    "plt.title('MSRP DISTRIBUTION',color='BLACK')\n",
    "plt.xlabel('MSRP',color='BLACK')\n",
    "plt.ylabel('FREQUENCY',color='BLACK')\n",
    "plt.xticks(color='BLACK',fontsize=12)\n",
    "plt.yticks(color='BLACK',fontsize=12)\n",
    "plt.show()"
   ]
  },
  {
   "cell_type": "code",
   "execution_count": null,
   "id": "a8d95108",
   "metadata": {},
   "outputs": [],
   "source": [
    "dealsize_count=data.groupby('DEALSIZE').agg({'ORDERNUMBER':'count'}).rename(columns={'ORDERNUMBER':'COUNT'}).sort_values(by='COUNT',ascending=False).reset_index()\n",
    "dealsize_count"
   ]
  },
  {
   "cell_type": "code",
   "execution_count": null,
   "id": "1d88bbd9",
   "metadata": {},
   "outputs": [],
   "source": [
    "#VISUALISING DEALSIZE DISTRIBUTION USING COUNT PLOT\n",
    "plt.figure(figsize=(10,8))\n",
    "sns.countplot(y='DEALSIZE',data=data)\n",
    "plt.xlabel('COUNT',color='BLACK')\n",
    "plt.ylabel('DEALSIZE',color='BLACK')\n",
    "plt.title('DEALSIZE VS COUNT',color='BLACK')\n",
    "plt.xticks(color='BLACK',fontsize=12)\n",
    "plt.yticks(color='BLACK',fontsize=12)\n",
    "plt.show()"
   ]
  },
  {
   "cell_type": "markdown",
   "id": "5a84166b",
   "metadata": {},
   "source": [
    "   From dealsize plot we can infer that medium is more than small which is good sign in terms of sales and revenue generated"
   ]
  },
  {
   "cell_type": "code",
   "execution_count": null,
   "id": "7597279b",
   "metadata": {},
   "outputs": [],
   "source": [
    "countries_count=data.groupby('COUNTRY').agg({'ORDERNUMBER':'count'}).rename(columns={'ORDERNUMBER':'COUNT'}).sort_values(by='COUNT',ascending=False).reset_index()\n",
    "countries_count"
   ]
  },
  {
   "cell_type": "code",
   "execution_count": null,
   "id": "4ed32e35",
   "metadata": {
    "scrolled": false
   },
   "outputs": [],
   "source": [
    "#COUNT PLOT FOR DIFFERENT COUNTRIES\n",
    "plt.figure(figsize=(10,8))\n",
    "sns.countplot(y='COUNTRY',data=data)\n",
    "plt.xlabel('COUNT',color='BLACK')\n",
    "plt.ylabel('COUNTRIES',color='BLACK')\n",
    "plt.title('COUNTRIES VS COUNT',color='BLACK')\n",
    "plt.xticks(color='BLACK',fontsize=12)\n",
    "plt.yticks(color='BLACK',fontsize=12)\n",
    "plt.show()"
   ]
  },
  {
   "cell_type": "markdown",
   "id": "eb4d86a5",
   "metadata": {},
   "source": [
    "From countries plot we get to know that majority of the customer are from USA."
   ]
  },
  {
   "cell_type": "code",
   "execution_count": null,
   "id": "9dd288ce",
   "metadata": {},
   "outputs": [],
   "source": [
    "city_count=data.groupby('CITY').agg({'ORDERNUMBER':'count'}).rename(columns={'ORDERNUMBER':'COUNT'}).sort_values(by='COUNT',ascending=False).reset_index()\n",
    "city_count"
   ]
  },
  {
   "cell_type": "code",
   "execution_count": null,
   "id": "12574e4b",
   "metadata": {},
   "outputs": [],
   "source": [
    "#COUNT PLOT FOR DIFFERENT CITY\n",
    "plt.figure(figsize=(12,12))\n",
    "sns.countplot(y='CITY',data=data)\n",
    "plt.xlabel('COUNT',color='BLACK')\n",
    "plt.ylabel('CITY',color='BLACK')\n",
    "plt.title('CITY VS COUNT',color='BLACK')\n",
    "plt.xticks(color='BLACK',fontsize=12)\n",
    "plt.yticks(color='BLACK')\n",
    "plt.show()"
   ]
  },
  {
   "cell_type": "markdown",
   "id": "a72c1a79",
   "metadata": {},
   "source": [
    "From countries plot we get to know that majority of the customer are from MADRID."
   ]
  },
  {
   "cell_type": "code",
   "execution_count": null,
   "id": "1f1fd25b",
   "metadata": {},
   "outputs": [],
   "source": [
    "productcode_count=data.groupby('PRODUCTCODE').agg({'ORDERNUMBER':'count'}).rename(columns={'ORDERNUMBER':'COUNT'}).sort_values(by='COUNT',ascending=False).reset_index()\n",
    "productcode_count"
   ]
  },
  {
   "cell_type": "code",
   "execution_count": null,
   "id": "cad07a1d",
   "metadata": {},
   "outputs": [],
   "source": [
    "#COUNT PLOT FOR PRODUCTS PRODUCT CODE\n",
    "plt.figure(figsize=(16,20))\n",
    "sns.countplot(y='PRODUCTCODE',data=data)\n",
    "plt.xlabel('COUNT',color='BLACK')\n",
    "plt.ylabel('PRODUCTCODE',color='BLACK')\n",
    "plt.title('PRODUCTCODE VS COUNT',color='BLACK')\n",
    "plt.xticks(color='BLACK',fontsize=12)\n",
    "plt.yticks(color='BLACK')\n",
    "plt.show()"
   ]
  },
  {
   "cell_type": "markdown",
   "id": "64981bc5",
   "metadata": {},
   "source": [
    "From productcode plot we get to know that product code of most sold item is S18_3232."
   ]
  },
  {
   "cell_type": "code",
   "execution_count": null,
   "id": "987a4bfb",
   "metadata": {},
   "outputs": [],
   "source": [
    "#RELATION PLOT BETWEEN CCOUNTRIES AND SALES WITH DIFFERENTIATING FACTOR AS DEALSIZE\n",
    "sns.relplot(x='SALES',y='COUNTRY',data=data,color='BLUE',hue='DEALSIZE')\n",
    "plt.xlabel('SALES',color='BLACK')\n",
    "plt.ylabel('COUNTRY',color='BLACK')\n",
    "plt.title('COUNTRY VS SALES',color='BLACK')\n",
    "plt.xticks(color='BLACK',fontsize=10)\n",
    "plt.yticks(color='BLACK')\n",
    "plt.show()"
   ]
  },
  {
   "cell_type": "code",
   "execution_count": null,
   "id": "daefacdc",
   "metadata": {},
   "outputs": [],
   "source": [
    "#RELATION  PLOT FOR PRICE AND SALES\n",
    "sns.relplot(x='SALES',y='PRICE',data=data,color='BLUE')\n",
    "plt.xlabel('SALES',color='BLACK')\n",
    "plt.ylabel('PRICE',color='BLACK')\n",
    "plt.title('PRICE VS SALES',color='BLACK')\n",
    "plt.xticks(color='BLACK',fontsize=10)\n",
    "plt.yticks(color='BLACK')\n",
    "plt.show()"
   ]
  },
  {
   "cell_type": "code",
   "execution_count": null,
   "id": "0a117e7a",
   "metadata": {},
   "outputs": [],
   "source": [
    "#RELATION PLOT FOR QUANTITY AND SALES WITH DIFFERENTIATING FACTOR AS PRICE\n",
    "sns.relplot(x='QUANTITY',y='SALES',data=data,color='BLUE',hue='PRICE')\n",
    "plt.xlabel('QUANTITY',color='BLACK')\n",
    "plt.ylabel('SALES',color='BLACK')\n",
    "plt.title('QUANTITY VS SALES',color='BLACK')\n",
    "plt.xticks(color='BLACK',fontsize=10)\n",
    "plt.yticks(color='BLACK')\n",
    "plt.show()"
   ]
  },
  {
   "cell_type": "code",
   "execution_count": null,
   "id": "17f6485e",
   "metadata": {},
   "outputs": [],
   "source": [
    "#RELATION PLOT BETWEEN QUANTITY AND SALES WITH DIFFERENTIATING FACTOR AS DEALSIZE\n",
    "sns.relplot(x='QUANTITY',y='SALES',data=data,color='BLUE',hue='DEALSIZE')\n",
    "plt.xlabel('QUANTITY',color='BLACK')\n",
    "plt.ylabel('SALES',color='BLACK')\n",
    "plt.title('QUANTITY VS SALES',color='BLACK')\n",
    "plt.xticks(color='BLACK',fontsize=10)\n",
    "plt.yticks(color='BLACK')\n",
    "plt.show()"
   ]
  },
  {
   "cell_type": "code",
   "execution_count": null,
   "id": "7e88f79e",
   "metadata": {},
   "outputs": [],
   "source": [
    "#FINDING TOP COUNTRIES IN COMPARISION TO TOTAL SALES\n",
    "top_countries=data.groupby('COUNTRY')['SALES'].sum().to_frame('TOTAL_SALES').reset_index().sort_values(by='TOTAL_SALES',ascending=False)"
   ]
  },
  {
   "cell_type": "code",
   "execution_count": null,
   "id": "f10ee3af",
   "metadata": {},
   "outputs": [],
   "source": [
    "#CONVERTING SALES UNIT TO MILLION \n",
    "top_countries['TOTAL_SALES']=top_countries['TOTAL_SALES']/1000000\n",
    "top_countries.rename(columns={'TOTAL_SALES':'TOTAL_SALES(M)'})\n",
    "top_countries"
   ]
  },
  {
   "cell_type": "code",
   "execution_count": null,
   "id": "f4c4f860",
   "metadata": {},
   "outputs": [],
   "source": [
    "#VISUALISING COUNTRIES VS TOTAL SALES USING BARPLOT\n",
    "plt.figure(figsize=(12,10))\n",
    "sns.barplot(x='COUNTRY',y='TOTAL_SALES',data=top_countries)\n",
    "plt.xlabel('COUNTRIES',color='BLACK')\n",
    "plt.ylabel('TOTAL_SALES(M)',color='BLACK')\n",
    "plt.title('COUNTRIES VS SALES(M)',color='BLACK')\n",
    "plt.xticks(color='BLACK',fontsize=10,rotation=90)\n",
    "plt.yticks(color='BLACK')\n",
    "plt.show()"
   ]
  },
  {
   "cell_type": "markdown",
   "id": "027d6ab6",
   "metadata": {},
   "source": [
    "From Sales VS Countries plot we infer that highest sales is obtained country is USA"
   ]
  },
  {
   "cell_type": "code",
   "execution_count": null,
   "id": "0a5c33de",
   "metadata": {},
   "outputs": [],
   "source": [
    "#CALCULATING TOP PRODUCTCODE OF DIFFERENT PRODUCTS\n",
    "top_products=data.groupby('PRODUCTCODE')['SALES'].sum().to_frame('TOTAL_SALES').reset_index().sort_values(by='TOTAL_SALES',ascending=False)"
   ]
  },
  {
   "cell_type": "code",
   "execution_count": null,
   "id": "757aa192",
   "metadata": {},
   "outputs": [],
   "source": [
    "top_products=top_products.head(10)"
   ]
  },
  {
   "cell_type": "code",
   "execution_count": null,
   "id": "28798a8b",
   "metadata": {},
   "outputs": [],
   "source": [
    "#DISPLAYING TOP 10 PRODUCTS IN COMPARISION TO TOTAL SALES\n",
    "top_products"
   ]
  },
  {
   "cell_type": "code",
   "execution_count": null,
   "id": "40d7583b",
   "metadata": {},
   "outputs": [],
   "source": [
    "#VISUALISING TOP 10 PRODUCTS USING BARPLOT\n",
    "plt.figure(figsize=(12,10))\n",
    "sns.barplot(x='PRODUCTCODE',y='TOTAL_SALES',data=top_products)\n",
    "plt.xlabel('PRODUCTCODE',color='BLACK')\n",
    "plt.ylabel('TOTAL_SALES',color='BLACK')\n",
    "plt.title('PRODUCTCODE VS SALES',color='BLACK')\n",
    "plt.xticks(color='BLACK',fontsize=10,rotation=90)\n",
    "plt.yticks(color='BLACK')\n",
    "plt.show()"
   ]
  },
  {
   "cell_type": "markdown",
   "id": "9c050887",
   "metadata": {},
   "source": [
    "From Productcode vs Sales plot we infer that product with highest sales is S18_3232"
   ]
  },
  {
   "cell_type": "code",
   "execution_count": null,
   "id": "37518a3b",
   "metadata": {},
   "outputs": [],
   "source": [
    "#DISPLAYING UNIQUE PRODUCT CATEGORY\n",
    "data['PRODUCTLINE'].unique()"
   ]
  },
  {
   "cell_type": "code",
   "execution_count": null,
   "id": "016c876b",
   "metadata": {},
   "outputs": [],
   "source": [
    "#CALCULATING TOTAL SALES FOR DIFFERENT PRODUCT CATEGORIES\n",
    "top_productline=data.groupby('PRODUCTLINE')['SALES'].sum().to_frame('TOTAL_SALES').reset_index().sort_values(by='TOTAL_SALES',ascending=False)"
   ]
  },
  {
   "cell_type": "code",
   "execution_count": null,
   "id": "95541a87",
   "metadata": {},
   "outputs": [],
   "source": [
    "#DISPLAYING PRODUCT CATEGORY WITH TOTAL SALES\n",
    "top_productline"
   ]
  },
  {
   "cell_type": "code",
   "execution_count": null,
   "id": "3c6f199f",
   "metadata": {},
   "outputs": [],
   "source": [
    "#VISUALISING DIFFERENT PRODUCT CATEGORY WITH TOTAL SALES USING BARPLOT\n",
    "plt.figure(figsize=(12,10))\n",
    "sns.barplot(x='PRODUCTLINE',y='TOTAL_SALES',data=top_productline)\n",
    "plt.xlabel('PRODUCTLINE',color='BLACK')\n",
    "plt.ylabel('TOTAL_SALES',color='BLACK')\n",
    "plt.title('PRODUCTLINE VS SALES',color='BLACK')\n",
    "plt.xticks(color='BLACK',fontsize=10,rotation=90)\n",
    "plt.yticks(color='BLACK')\n",
    "plt.show()"
   ]
  },
  {
   "cell_type": "markdown",
   "id": "8362aaaa",
   "metadata": {},
   "source": [
    "From Productline vs Sales plot we infer that Classic Cars has highest sales as compared to other categories of product"
   ]
  },
  {
   "cell_type": "code",
   "execution_count": null,
   "id": "11e768eb",
   "metadata": {},
   "outputs": [],
   "source": [
    "#CALCULATING TOTAL QUANTITY FOR DIFFERENT PRODUCT CATEGORY\n",
    "top_productline_quantity=data.groupby('PRODUCTLINE')['QUANTITY'].sum().to_frame('TOTAL_QUANTITY').reset_index().sort_values(by='TOTAL_QUANTITY',ascending=False)"
   ]
  },
  {
   "cell_type": "code",
   "execution_count": null,
   "id": "9ca19fe7",
   "metadata": {},
   "outputs": [],
   "source": [
    "#DISPLAYING TOTAL QUANTITY OF DIFFERENT PRODUCT CATEGORY\n",
    "top_productline_quantity"
   ]
  },
  {
   "cell_type": "code",
   "execution_count": null,
   "id": "1e828aea",
   "metadata": {},
   "outputs": [],
   "source": [
    "#VISUALISING TOTAL QUANTITY AND DIFFERENT PRODUCT CATEGORY USING BARPLOT\n",
    "plt.figure(figsize=(12,10))\n",
    "sns.barplot(x='PRODUCTLINE',y='TOTAL_QUANTITY',data=top_productline_quantity)\n",
    "plt.xlabel('PRODUCTLINE',color='BLACK')\n",
    "plt.ylabel('TOTAL_QUANTITY',color='BLACK')\n",
    "plt.title('PRODUCTLINE VS TOTAL_QUANTITY',color='BLACK')\n",
    "plt.xticks(color='BLACK',fontsize=10,rotation=90)\n",
    "plt.yticks(color='BLACK')\n",
    "plt.show()"
   ]
  },
  {
   "cell_type": "markdown",
   "id": "620e7a00",
   "metadata": {},
   "source": [
    "From Productline vs Sales plot we infer that Classic Cars has highest ordered quantity as compared to other categories of product"
   ]
  },
  {
   "cell_type": "code",
   "execution_count": null,
   "id": "db465071",
   "metadata": {},
   "outputs": [],
   "source": [
    "#CALCULATING TOTAL QUANTITY OF DIFFERENT PRODUCTS\n",
    "top_productcode_quantity=data.groupby('PRODUCTCODE')['QUANTITY'].sum().to_frame('TOTAL_QUANTITY').reset_index().sort_values(by='TOTAL_QUANTITY',ascending=False)"
   ]
  },
  {
   "cell_type": "code",
   "execution_count": null,
   "id": "4376e5b3",
   "metadata": {},
   "outputs": [],
   "source": [
    "#SELECTING TOP 20 PRODUCTS\n",
    "top_productcode_quantity=top_productcode_quantity.head(20)"
   ]
  },
  {
   "cell_type": "code",
   "execution_count": null,
   "id": "7ad95207",
   "metadata": {},
   "outputs": [],
   "source": [
    "#DISPLAYING TOTAL QUANTITY FOR TOP 20 PRODUCTS\n",
    "top_productcode_quantity"
   ]
  },
  {
   "cell_type": "code",
   "execution_count": null,
   "id": "5724ec00",
   "metadata": {},
   "outputs": [],
   "source": [
    "#VISUALISING TOTAL QUANTITY AND DIFFERENT PRODUCT CODE USING BARPLOT\n",
    "plt.figure(figsize=(12,10))\n",
    "sns.barplot(x='PRODUCTCODE',y='TOTAL_QUANTITY',data=top_productcode_quantity)\n",
    "plt.xlabel('PRODUCTCODE',color='BLACK')\n",
    "plt.ylabel('TOTAL_QUANTITY',color='BLACK')\n",
    "plt.title('PRODUCTCODE VS TOTAL_QUANTITY',color='BLACK')\n",
    "plt.xticks(color='BLACK',fontsize=10,rotation=90)\n",
    "plt.yticks(color='BLACK')\n",
    "plt.show()"
   ]
  },
  {
   "cell_type": "markdown",
   "id": "371335ed",
   "metadata": {},
   "source": [
    "From Productcode vs Quantity plot we infer that S18_3232 has highest quantity sold as compared to other product"
   ]
  },
  {
   "cell_type": "code",
   "execution_count": null,
   "id": "58cdaf79",
   "metadata": {},
   "outputs": [],
   "source": [
    "#CALCULATING PERCENTAGE OF STATUS OF ORDERS \n",
    "status=data['STATUS'].value_counts(normalize=True).to_frame('PERCENTAGE').reset_index()\n",
    "status.rename(columns={'index':'STATUS'},inplace=True)\n",
    "status['PERCENTAGE']=status['PERCENTAGE']*100\n",
    "status"
   ]
  },
  {
   "cell_type": "code",
   "execution_count": null,
   "id": "932bbd4c",
   "metadata": {},
   "outputs": [],
   "source": [
    "#VISUALISING STATUS OF ORDERS USING BARPLOT\n",
    "plt.figure(figsize=(10,10))\n",
    "sns.barplot(x='STATUS',y='PERCENTAGE',data=status)\n",
    "plt.xlabel('STATUS',color='BLACK',fontsize='12')\n",
    "plt.ylabel('PERCENTAGE',color='BLACK',fontsize='12')\n",
    "plt.title('STATUS DISTRIBUTION')\n",
    "plt.xticks(color='BLACK',fontsize=10)\n",
    "plt.yticks(color='BLACK',fontsize=10)\n",
    "plt.show()"
   ]
  },
  {
   "cell_type": "markdown",
   "id": "25b26428",
   "metadata": {},
   "source": [
    "From STATUS plot we can infer that most of the order were shipped whereas very less cancelled,on_hold,disputed,in_proccess and resolved which is a good sign"
   ]
  },
  {
   "cell_type": "code",
   "execution_count": null,
   "id": "d871504f",
   "metadata": {},
   "outputs": [],
   "source": [
    "#PRINTING YEAR WITH NO OF MONTHS RESPECTIVELY\n",
    "data.groupby('YEAR')['MONTH'].nunique()"
   ]
  },
  {
   "cell_type": "markdown",
   "id": "a8e288f8",
   "metadata": {},
   "source": [
    "We dont have full data for year 2005"
   ]
  },
  {
   "cell_type": "code",
   "execution_count": null,
   "id": "e8d52e79",
   "metadata": {},
   "outputs": [],
   "source": [
    "#CALCULATING ANNUAL REVENUE FOR DIFFERENT YEARS\n",
    "annual_revenue=data.groupby('YEAR')['SALES'].sum()"
   ]
  },
  {
   "cell_type": "code",
   "execution_count": null,
   "id": "f13c2d2a",
   "metadata": {},
   "outputs": [],
   "source": [
    "#PRINTING ANNUAL REVENUE FOR DIFFERENT YEARS\n",
    "annual_revenue"
   ]
  },
  {
   "cell_type": "code",
   "execution_count": null,
   "id": "4e5cbd6e",
   "metadata": {},
   "outputs": [],
   "source": [
    "#VISUALISING ANNUAL REVENUE USING LINEPLOT\n",
    "plt.figure(figsize=(10,8))\n",
    "annual_revenue.plot()\n",
    "plt.xlabel('YEAR',color='BLACK',fontsize=12)\n",
    "plt.ylabel('REVENUE',color='BLACK',fontsize=12)\n",
    "plt.title('ANNUAL REVENUE')\n",
    "plt.yticks(color='BLACK',fontsize=10)\n",
    "plt.xticks(np.arange(2003,2006,1),color='BLACK',fontsize=10)\n",
    "plt.show()"
   ]
  },
  {
   "cell_type": "markdown",
   "id": "625579d3",
   "metadata": {},
   "source": [
    "We dont have the complete data for 2005, analyzing the Annual Revenue can be misleading. Instead, we can analyze Monthy Revenue."
   ]
  },
  {
   "cell_type": "code",
   "execution_count": null,
   "id": "4425baa5",
   "metadata": {},
   "outputs": [],
   "source": [
    "#CALCULATING AND VISUALISING MONTHLY REVENUE FOR DIFFERENT YEARS USING LINEPLOT\n",
    "plt.figure(figsize=(10,8))\n",
    "monthly_revenue = data.groupby(['YEAR','MONTH'])['SALES'].sum().to_frame('TOTAL_SALES').reset_index()\n",
    "monthly_revenue\n",
    "sns.lineplot(x=\"MONTH\", y=\"TOTAL_SALES\",hue=\"YEAR\", data=monthly_revenue,palette='dark')\n",
    "plt.xlabel('Month',color='BLACK',fontsize='12')\n",
    "plt.ylabel('SALES',color='BLACK',fontsize='12')\n",
    "plt.title('MONTHLY REVENUE')\n",
    "plt.xticks(color='BLACK',fontsize=10)\n",
    "plt.yticks(color='BLACK',fontsize=10)\n",
    "plt.show()"
   ]
  },
  {
   "cell_type": "markdown",
   "id": "6bbd8f21",
   "metadata": {},
   "source": [
    "The monthly revenue graph clearly shows that the revenue is growing especially in October and November for year 2003 and 2004. It can be due to festive season and thanks giving. We can also observe that 2005 is performing better than the other years in terms of revenue having the maximum sales in all the months(Jan - May). The reason behind this spike of sales in 2005 can be further investigated to maintain high sales in future."
   ]
  },
  {
   "cell_type": "code",
   "execution_count": null,
   "id": "62f85561",
   "metadata": {},
   "outputs": [],
   "source": [
    "#PRINTING MONTHLY REVENUE FOR DIFFERENT YEARS\n",
    "monthly_revenue.head()"
   ]
  },
  {
   "cell_type": "code",
   "execution_count": null,
   "id": "727c6d37",
   "metadata": {},
   "outputs": [],
   "source": [
    "#CALCULATING GROWTH RATE FOR DIFFERNT MONTHS\n",
    "monthly_revenue['GROWTH_RATE']=monthly_revenue['TOTAL_SALES'].pct_change()"
   ]
  },
  {
   "cell_type": "code",
   "execution_count": null,
   "id": "ee81e8eb",
   "metadata": {},
   "outputs": [],
   "source": [
    "#PRINTING GROWTH RATE FOR DIFFERENT MONTHS \n",
    "monthly_revenue.head()"
   ]
  },
  {
   "cell_type": "code",
   "execution_count": null,
   "id": "a1fe52d3",
   "metadata": {},
   "outputs": [],
   "source": [
    "#VISUALISING GROWTH RATE FOR DIFFERENT MONTHS USING LINEPLOT\n",
    "plt.figure(figsize=(10,8))\n",
    "sns.lineplot(x=\"MONTH\", y=\"GROWTH_RATE\",hue=\"YEAR\", data=monthly_revenue,palette='dark')\n",
    "plt.xlabel('MONTH',color='BLACK',fontsize='12')\n",
    "plt.ylabel('GROWTH_RATE',color='BLACK',fontsize='12')\n",
    "plt.title('MONTHLY_REVENUE VS GROWTH_RATE')\n",
    "plt.xticks(color='BLACK',fontsize=10)\n",
    "plt.yticks(color='BLACK',fontsize=10)\n",
    "plt.show()"
   ]
  },
  {
   "cell_type": "markdown",
   "id": "a3b01ef2",
   "metadata": {},
   "source": [
    "There is high growth rate from Apr 2005 to May 2005 as compared to 2003 and 2004 which can be further investigated to get more insights regarding sales."
   ]
  },
  {
   "cell_type": "code",
   "execution_count": null,
   "id": "86dbe1d7",
   "metadata": {},
   "outputs": [],
   "source": [
    "#CALCULATING AVERAGE REVENUE PER MONTH FOR DIFFERENT YEARS\n",
    "average_revenue = data.groupby(['YEAR','MONTH'])['SALES'].mean().to_frame('TOTAL_SALES').reset_index()\n",
    "average_revenue.head()"
   ]
  },
  {
   "cell_type": "code",
   "execution_count": null,
   "id": "713c2f7c",
   "metadata": {},
   "outputs": [],
   "source": [
    "#VISUALISNG AVERAGE REVENUE FOR DIFFERENT MONTHS USING LINEPLOT\n",
    "plt.figure(figsize=(10,8))\n",
    "plt.figure(figsize=(10,8))\n",
    "sns.lineplot(x=\"MONTH\", y=\"TOTAL_SALES\",hue=\"YEAR\", data=average_revenue,palette='dark')\n",
    "plt.xlabel('MONTH',color='BLACK',fontsize='12')\n",
    "plt.ylabel('AVERAGE_SALES',color='BLACK',fontsize='12')\n",
    "plt.title('AVERAGE_REVENUE PER MONTH')\n",
    "plt.xticks(color='BLACK',fontsize=10)\n",
    "plt.yticks(color='BLACK',fontsize=10)\n",
    "plt.show()"
   ]
  },
  {
   "cell_type": "code",
   "execution_count": null,
   "id": "c2e86f15",
   "metadata": {},
   "outputs": [],
   "source": [
    "#GENERATING NEW COLUMN NAMED AS YEAR-MONTH\n",
    "hyphen='-'\n",
    "data['YEAR_MONTH'] = data['YEAR'].map(str)+hyphen+data['MONTH'].map(str).map(lambda x: x.rjust(2,'0'))\n",
    "data['YEAR_MONTH']"
   ]
  },
  {
   "cell_type": "code",
   "execution_count": null,
   "id": "a001686d",
   "metadata": {},
   "outputs": [],
   "source": [
    "#CALCULATING ACTIVE CUSTOMER PER MONTH FOR DIFFERENT MONTHS\n",
    "active_customer=data.groupby('YEAR_MONTH')['CUSTOMERNAME'].nunique().to_frame('NO_OF_ACTIVE_CUSTOMER').reset_index()\n",
    "active_customer"
   ]
  },
  {
   "cell_type": "code",
   "execution_count": null,
   "id": "cdf38c3a",
   "metadata": {
    "scrolled": false
   },
   "outputs": [],
   "source": [
    "#VISUALISING ACTIVE CUSTOMERS USING BARPLOT \n",
    "plt.figure(figsize=(14,10))\n",
    "sns.barplot(x='YEAR_MONTH',y='NO_OF_ACTIVE_CUSTOMER',data=active_customer,color='GREEN',)\n",
    "plt.title('MONTHLY ACTIVE CUSTOMER')\n",
    "plt.xlabel('YEAR_MONTH',color='BLACK',fontsize=12)\n",
    "plt.ylabel('NO OF ACTIVE CUSTOMER',color='BLACK',fontsize=12)\n",
    "plt.xticks(color='BLACK',fontsize=10,rotation=90)\n",
    "plt.yticks(color='BLACK',fontsize=10)\n",
    "plt.show()"
   ]
  },
  {
   "cell_type": "markdown",
   "id": "7935c4d4",
   "metadata": {},
   "source": [
    "From above graph we can infer that customers are highly active during the months of November and October. The number of active customers increased from 2003 to 2004 which indicates that the company is successful in retention/acquisition of old/new customers."
   ]
  },
  {
   "cell_type": "code",
   "execution_count": null,
   "id": "31d3d93d",
   "metadata": {},
   "outputs": [],
   "source": [
    "#GENERATING CORRECT NO OF CLUSTERS USING ELBOW METHOD\n",
    "price_quantity=data.loc[:,['PRICE','QUANTITY']].values\n",
    "wcss=[]\n",
    "for i in range(1,11):\n",
    "    cluster=KMeans(n_clusters=i,init='k-means++',random_state=32)\n",
    "    cluster.fit(price_quantity)\n",
    "    wcss.append(cluster.inertia_)\n",
    "plt.figure(figsize=(10,8))\n",
    "sns.lineplot(x=range(1,11),y=wcss,color='BLACK',marker='*',markersize=10,linewidth=2)\n",
    "plt.title('ELBOW METHOD')\n",
    "plt.xticks(color='BLACK',fontsize=10)\n",
    "plt.yticks(color='BLACK',fontsize=10)\n",
    "plt.xlabel('NO OF CLUSTERS',color='BLACK',fontsize=12)\n",
    "plt.ylabel('WCSS',color='BLACK',fontsize=12)\n",
    "plt.show()"
   ]
  },
  {
   "cell_type": "code",
   "execution_count": null,
   "id": "056aad3f",
   "metadata": {},
   "outputs": [],
   "source": [
    "#CALCULATING DIFFERENT CLUSTERS USING KMEANS ALGORITHM\n",
    "kmeans=KMeans(n_clusters=4,init='k-means++',random_state=32)\n",
    "kmeans.fit(price_quantity)\n",
    "labels=kmeans.predict(price_quantity)"
   ]
  },
  {
   "cell_type": "code",
   "execution_count": null,
   "id": "7376ad55",
   "metadata": {},
   "outputs": [],
   "source": [
    "#PRINTING VALUES OF CLUSTERS\n",
    "labels"
   ]
  },
  {
   "cell_type": "code",
   "execution_count": null,
   "id": "0d76ef47",
   "metadata": {},
   "outputs": [],
   "source": [
    "#PRINTING COORDINATES FOR CENTROIDS OF DIFFERENT CLUSTERS\n",
    "centers=kmeans.cluster_centers_\n",
    "centers"
   ]
  },
  {
   "cell_type": "code",
   "execution_count": null,
   "id": "665e6664",
   "metadata": {},
   "outputs": [],
   "source": [
    "price_quan=data.loc[:,['PRICE','QUANTITY']]\n",
    "price_quan['LABEL']=labels\n",
    "price_quan"
   ]
  },
  {
   "cell_type": "code",
   "execution_count": null,
   "id": "044555b1",
   "metadata": {},
   "outputs": [],
   "source": [
    "#VISUALING DIFFERENT CLUSTERS OF PRICE AND QUANTITY USING SCATTER PLOT\n",
    "plt.figure(figsize=(10,8))\n",
    "sns.scatterplot(x=price_quantity[:,0],y=price_quantity[:,1],data=price_quantity,c=labels)\n",
    "sns.color_palette('dark',as_cmap='dark')\n",
    "plt.scatter(centers[:,0],centers[:,1],c='RED',s=200,marker='*')\n",
    "plt.title('PRICE VS QUANTITY CLUSTERS')\n",
    "plt.xticks(color='BLACK',fontsize=10)\n",
    "plt.yticks(color='BLACK',fontsize=10)\n",
    "plt.xlabel('PRICE',color='BLACK',fontsize=12)\n",
    "plt.ylabel('QUANTITY',color='BLACK',fontsize=12)\n",
    "plt.show()"
   ]
  },
  {
   "cell_type": "code",
   "execution_count": null,
   "id": "58b3c1a6",
   "metadata": {},
   "outputs": [],
   "source": [
    "#CHANGING VALUES OF DEALSIZE TO NUMERIC VALUES\n",
    "data['DEALSIZE'].replace({'Small':1,'Medium':2,'Large':3},inplace=True)"
   ]
  },
  {
   "cell_type": "code",
   "execution_count": null,
   "id": "b913750b",
   "metadata": {},
   "outputs": [],
   "source": [
    "#FINIDNG CORRECT NO OF CLUSTERS USING ELBOW METHOD\n",
    "dealsize_msrp=data.loc[:,['DEALSIZE','MSRP']].values\n",
    "wcss=[]\n",
    "for i in range(1,11):\n",
    "    kmeans=KMeans(n_clusters=i,init='k-means++',random_state=32)\n",
    "    kmeans.fit(dealsize_msrp)\n",
    "    wcss.append(kmeans.inertia_)\n",
    "plt.figure(figsize=(10,8))\n",
    "sns.lineplot(x=range(1,11),y=wcss,color='BLACK',marker='*',markersize=10,linewidth=2)\n",
    "plt.title('ELBOW METHOD')\n",
    "plt.xticks(color='BLACK',fontsize=10)\n",
    "plt.yticks(color='BLACK',fontsize=10)\n",
    "plt.xlabel('NO OF CLUSTERS',color='BLACK',fontsize=12)\n",
    "plt.ylabel('WCSS',color='BLACK',fontsize=12)\n",
    "plt.show()"
   ]
  },
  {
   "cell_type": "code",
   "execution_count": null,
   "id": "6dc9839d",
   "metadata": {},
   "outputs": [],
   "source": [
    "#GENERATING LABELS FOR CLUSTERS USING KMEANS ALGORITHM\n",
    "kmeans=KMeans(n_clusters=4,init='k-means++',random_state=32)\n",
    "labels=kmeans.fit_predict(dealsize_msrp)\n",
    "labels"
   ]
  },
  {
   "cell_type": "code",
   "execution_count": null,
   "id": "cd20db0b",
   "metadata": {},
   "outputs": [],
   "source": [
    "#PRINTING COORDINATES OF CENTORIDS OF DIFFERENT CLUSTERS\n",
    "centers=kmeans.cluster_centers_\n",
    "centers"
   ]
  },
  {
   "cell_type": "code",
   "execution_count": null,
   "id": "435620d6",
   "metadata": {},
   "outputs": [],
   "source": [
    "#VISUALISING DEALSIZE AND MSRP CLUSTERS USING SCATTER PLOT\n",
    "plt.figure(figsize=(10,8))\n",
    "sns.scatterplot(x=dealsize_msrp[:,0],y=dealsize_msrp[:,1],data=dealsize_msrp,c=labels)\n",
    "sns.color_palette('deep',as_cmap=True)\n",
    "plt.scatter(centers[:,0],centers[:,1],c='RED',s=200,marker='*',label='CENTROIDS')\n",
    "plt.title('DEALSIZE VS MSRP CLUSTERS')\n",
    "plt.xticks(color='BLACK',fontsize=10)\n",
    "plt.yticks(color='BLACK',fontsize=10)\n",
    "plt.xlabel('DEALSIZE',color='BLACK',fontsize=12)\n",
    "plt.ylabel('MSRP',color='BLACK',fontsize=12)\n",
    "plt.legend()\n",
    "plt.show()"
   ]
  },
  {
   "cell_type": "code",
   "execution_count": null,
   "id": "1529258d",
   "metadata": {},
   "outputs": [],
   "source": [
    "#FINDING CORRECT NO OF CLUSTERS UDING ELBOW METHOD\n",
    "df=data.loc[:,['QUANTITY','MSRP','DEALSIZE']].values\n",
    "wcss=[]\n",
    "for i in range(1,11):\n",
    "    kmeans=KMeans(n_clusters=i,init='k-means++',random_state=32)\n",
    "    kmeans.fit(dealsize_msrp)\n",
    "    wcss.append(kmeans.inertia_)\n",
    "plt.figure(figsize=(10,8))\n",
    "sns.lineplot(x=range(1,11),y=wcss,color='BLACK',marker='*',markersize=10,linewidth=2)\n",
    "plt.title('ELBOW METHOD')\n",
    "plt.xticks(color='BLACK',fontsize=10)\n",
    "plt.yticks(color='BLACK',fontsize=10)\n",
    "plt.xlabel('NO OF CLUSTERS',color='BLACK',fontsize=12)\n",
    "plt.ylabel('WCSS',color='BLACK',fontsize=12)\n",
    "plt.show()"
   ]
  },
  {
   "cell_type": "code",
   "execution_count": null,
   "id": "23c20ece",
   "metadata": {},
   "outputs": [],
   "source": [
    "#GENERATING LABELS FOR DIFFERENT CLUSTERS UDING KMEANS ALGORITHM\n",
    "kmeans=KMeans(n_clusters=4,init='k-means++',random_state=32)\n",
    "labels=kmeans.fit_predict(df)\n",
    "labels"
   ]
  },
  {
   "cell_type": "code",
   "execution_count": null,
   "id": "0add760d",
   "metadata": {},
   "outputs": [],
   "source": [
    "#PRINTING COORDINATES OF CENTROIDS FOR DIFFERENT CLUSTERS\n",
    "centers=kmeans.cluster_centers_\n",
    "centers"
   ]
  },
  {
   "cell_type": "code",
   "execution_count": null,
   "id": "d843bd24",
   "metadata": {},
   "outputs": [],
   "source": [
    "clusters=kmeans.predict(df)\n",
    "data['CLUSTERS']=labels"
   ]
  },
  {
   "cell_type": "code",
   "execution_count": null,
   "id": "7382d786",
   "metadata": {},
   "outputs": [],
   "source": [
    "#VISUALISING CLUSTERS OF MSRP,QUANTITY AND PRICE IN 3D USING SCATTER PLOT\n",
    "from mpl_toolkits.mplot3d import Axes3D\n",
    "plt.style.use('default')\n",
    "fig=plt.figure(figsize=(50,20),facecolor=None)\n",
    "ax=fig.add_subplot(111,projection='3d')\n",
    "ax.scatter(data['QUANTITY'][data.CLUSTERS == 0], data[\"PRICE\"][data.CLUSTERS == 0], data[\"MSRP\"][data.CLUSTERS == 0], c='purple', s=60)\n",
    "ax.scatter(data['QUANTITY'][data.CLUSTERS == 1], data[\"PRICE\"][data.CLUSTERS == 1], data[\"MSRP\"][data.CLUSTERS== 1], c='red', s=60)\n",
    "ax.scatter(data['QUANTITY'][data.CLUSTERS == 2], data[\"PRICE\"][data.CLUSTERS == 2], data[\"MSRP\"][data.CLUSTERS == 2], c='green', s=60)\n",
    "ax.scatter(data['QUANTITY'][data.CLUSTERS == 3], data[\"PRICE\"][data.CLUSTERS == 3], data[\"MSRP\"][data.CLUSTERS == 3], c='yellow', s=60)\n",
    "ax.view_init(30,185)\n",
    "plt.xlabel(\"QUANTITY\",color='BLACK',fontsize=20,rotation=90)\n",
    "plt.ylabel(\"PRICE\",color='BLACK',fontsize=20,rotation=90)\n",
    "ax.set_zlabel(\"MSRP\",color='BLACK',fontsize=20,rotation=90)\n",
    "plt.xticks(color='BLACK',fontsize=10)\n",
    "plt.yticks(color='BLACK',fontsize=10)\n",
    "plt.title('MSRP_QUANTITY_PRICE CLUSTERS',fontsize=25)\n",
    "plt.show()\n"
   ]
  }
 ],
 "metadata": {
  "kernelspec": {
   "display_name": "Python 3 (ipykernel)",
   "language": "python",
   "name": "python3"
  },
  "language_info": {
   "codemirror_mode": {
    "name": "ipython",
    "version": 3
   },
   "file_extension": ".py",
   "mimetype": "text/x-python",
   "name": "python",
   "nbconvert_exporter": "python",
   "pygments_lexer": "ipython3",
   "version": "3.9.12"
  }
 },
 "nbformat": 4,
 "nbformat_minor": 5
}
